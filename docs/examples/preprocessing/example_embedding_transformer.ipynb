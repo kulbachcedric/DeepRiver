{
 "cells": [
  {
   "cell_type": "markdown",
   "metadata": {},
   "source": [
    "# Sentiment Analysis using TextEmbeddingProcessor\n",
    "\n",
    "In this notebook, we will demonstrate how to use the `TextEmbeddingProcessor` class for sentiment analysis. We will process text input and generate embeddings using a pre-trained transformer model."
   ]
  },
  {
   "cell_type": "code",
   "execution_count": 1,
   "metadata": {},
   "outputs": [],
   "source": [
    "\n"
   ]
  },
  {
   "cell_type": "markdown",
   "metadata": {},
   "source": [
    "## Example Usage\n",
    "\n",
    "We will now demonstrate how to use the `TextEmbeddingProcessor` to process text data and generate embeddings for sentiment analysis.\n"
   ]
  },
  {
   "cell_type": "code",
   "execution_count": 2,
   "metadata": {},
   "outputs": [],
   "source": [
    "# Create an instance of the TextEmbeddingProcessor\n",
    "processor = TextEmbeddingProcessor(model_name=\"bert-base-uncased\")\n",
    "\n",
    "# Sample input data\n",
    "input_data = {\n",
    "    \"text\": \"I love using this product! It works wonders and is so easy to use.\"\n",
    "}\n",
    "\n",
    "# Generate embeddings\n",
    "embeddings = processor.transform_one(input_data)\n",
    "\n",
    "# Display the embeddings\n",
    "print(\"Generated Embeddings:\")\n",
    "print(embeddings)\n"
   ]
  },
  {
   "cell_type": "markdown",
   "metadata": {},
   "source": [
    "## Simple Sentiment Classification\n",
    "\n",
    "In this example, we'll perform a very simple sentiment classification based on the average embedding value. \n",
    "We'll consider an embedding average greater than zero to indicate a positive sentiment, and less than or equal to zero to indicate a negative sentiment.\n"
   ]
  },
  {
   "cell_type": "code",
   "execution_count": 3,
   "metadata": {},
   "outputs": [
    {
     "name": "stdout",
     "output_type": "stream",
     "text": [
      "Sentiment: Positive\n"
     ]
    }
   ],
   "source": [
    "# Simple sentiment classification based on embedding\n",
    "average_embedding = sum(embeddings.values()) / len(embeddings)\n",
    "sentiment = \"Positive\" if average_embedding > 0 else \"Negative\"\n",
    "\n",
    "print(f\"Sentiment: {sentiment}\")\n"
   ]
  },
  {
   "cell_type": "markdown",
   "metadata": {},
   "source": [
    "## Conclusion\n",
    "\n",
    "In this notebook, we successfully demonstrated how to use the `TextEmbeddingProcessor` class to generate text embeddings for sentiment analysis. \n",
    "We used a simple method to classify the sentiment based on the average embedding value. In practice, more sophisticated methods would be used for sentiment classification."
   ]
  }
 ],
 "metadata": {
  "kernelspec": {
   "display_name": "Python 3 (ipykernel)",
   "language": "python",
   "name": "python3"
  },
  "language_info": {
   "codemirror_mode": {
    "name": "ipython",
    "version": 3
   },
   "file_extension": ".py",
   "mimetype": "text/x-python",
   "name": "python",
   "nbconvert_exporter": "python",
   "pygments_lexer": "ipython3",
   "version": "3.11.10"
  }
 },
 "nbformat": 4,
 "nbformat_minor": 4
}
