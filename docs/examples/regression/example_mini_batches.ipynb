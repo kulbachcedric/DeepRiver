{
 "cells": [
  {
   "cell_type": "markdown",
   "source": [
    "# Mini Batches\n",
    "Iterate over a data stream in mini batches"
   ],
   "metadata": {
    "collapsed": false,
    "pycharm": {
     "name": "#%% md\n"
    }
   }
  },
  {
   "cell_type": "code",
   "execution_count": null,
   "outputs": [],
   "source": [
    "import pandas as pd\n",
    "from river import datasets\n",
    "from river_torch import regression\n",
    "from torch import nn\n",
    "from river import compose\n",
    "from river import preprocessing\n",
    "from itertools import islice"
   ],
   "metadata": {
    "collapsed": false,
    "pycharm": {
     "name": "#%%\n"
    }
   }
  },
  {
   "cell_type": "code",
   "execution_count": null,
   "outputs": [],
   "source": [
    "class MyModule(nn.Module):\n",
    "    def __init__(self, n_features):\n",
    "        super(MyModule, self).__init__()\n",
    "        self.dense0 = nn.Linear(n_features,5)\n",
    "        self.nonlin = nn.ReLU()\n",
    "        self.dense1 = nn.Linear(5, 1)\n",
    "        self.relu = nn.ReLU()\n",
    "\n",
    "    def forward(self, X, **kwargs):\n",
    "        X = self.nonlin(self.dense0(X))\n",
    "        X = self.nonlin(self.dense1(X))\n",
    "        X = self.relu(X)\n",
    "        return X\n",
    "\n",
    "def batcher(iterable, batch_size):\n",
    "    iterator = iter(iterable)\n",
    "    while batch := list(islice(iterator, batch_size)):\n",
    "        yield batch"
   ],
   "metadata": {
    "collapsed": false,
    "pycharm": {
     "name": "#%%\n"
    }
   }
  },
  {
   "cell_type": "code",
   "execution_count": null,
   "outputs": [],
   "source": [
    "dataset = datasets.Bikes()\n",
    "\n",
    "model_pipeline = compose.Select('clouds', 'humidity', 'pressure', 'temperature', 'wind')\n",
    "model_pipeline |= preprocessing.StandardScaler()\n",
    "model_pipeline |= regression.Regressor(module=MyModule, loss_fn=\"mse\", optimizer_fn=\"sgd\")\n",
    "model_pipeline"
   ],
   "metadata": {
    "collapsed": false,
    "pycharm": {
     "name": "#%%\n"
    }
   }
  },
  {
   "cell_type": "code",
   "execution_count": null,
   "outputs": [],
   "source": [
    "for batch in batcher(dataset.take(5000),5):\n",
    "    x,y = zip(*batch)\n",
    "    x = pd.DataFrame(x)\n",
    "    y_pred = model_pipeline.predict_many(X=x)\n",
    "    model_pipeline.learn_many(X=x, y=y)"
   ],
   "metadata": {
    "collapsed": false,
    "pycharm": {
     "name": "#%%\n"
    }
   }
  }
 ],
 "metadata": {
  "kernelspec": {
   "display_name": "Python 3",
   "language": "python",
   "name": "python3"
  },
  "language_info": {
   "codemirror_mode": {
    "name": "ipython",
    "version": 2
   },
   "file_extension": ".py",
   "mimetype": "text/x-python",
   "name": "python",
   "nbconvert_exporter": "python",
   "pygments_lexer": "ipython2",
   "version": "2.7.6"
  }
 },
 "nbformat": 4,
 "nbformat_minor": 0
}