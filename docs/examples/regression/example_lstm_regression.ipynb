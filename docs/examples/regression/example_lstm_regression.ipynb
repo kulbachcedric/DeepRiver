{
 "cells": [
  {
   "cell_type": "markdown",
   "source": [
    "# LSTM Regression Model"
   ],
   "metadata": {
    "collapsed": false,
    "pycharm": {
     "name": "#%% md\n"
    }
   }
  },
  {
   "cell_type": "code",
   "execution_count": null,
   "outputs": [],
   "source": [
    "from river_torch.regression import RollingRegressor\n",
    "from river import metrics, compose, preprocessing\n",
    "from river.datasets import Bikes\n",
    "from torch import nn\n",
    "from tqdm import tqdm"
   ],
   "metadata": {
    "collapsed": false,
    "pycharm": {
     "name": "#%%\n"
    }
   }
  },
  {
   "cell_type": "code",
   "execution_count": null,
   "outputs": [],
   "source": [
    "class MyModule(nn.Module):\n",
    "\n",
    "    def __init__(self, n_features, hidden_size=1):\n",
    "        super().__init__()\n",
    "        self.n_features=n_features\n",
    "        self.hidden_size = hidden_size\n",
    "        self.lstm = nn.LSTM(input_size=n_features, hidden_size=hidden_size, num_layers=1)\n",
    "        self.softmax = nn.Softmax(dim=-1)\n",
    "\n",
    "    def forward(self, X, **kwargs):\n",
    "        output, (hn, cn) = self.lstm(X)  # lstm with input, hidden, and internal state\n",
    "        hn = hn.view(-1, self.hidden_size)\n",
    "        return self.softmax(hn)"
   ],
   "metadata": {
    "collapsed": false,
    "pycharm": {
     "name": "#%%\n"
    }
   }
  },
  {
   "cell_type": "code",
   "execution_count": null,
   "outputs": [],
   "source": [
    "dataset = Bikes()\n",
    "metric = metrics.MAE()\n",
    "\n",
    "model_pipeline = compose.Select('clouds', 'humidity', 'pressure', 'temperature', 'wind')\n",
    "model_pipeline |= preprocessing.StandardScaler()\n",
    "model_pipeline |= RollingRegressor(\n",
    "    module=MyModule,\n",
    "    loss_fn='mse',\n",
    "    optimizer_fn='sgd',\n",
    "    window_size=20,\n",
    "    lr=1e-2,\n",
    "    hidden_size=1,  # parameters of MyModule can be overwritten\n",
    "    append_predict=True,\n",
    ")\n",
    "model_pipeline"
   ],
   "metadata": {
    "collapsed": false,
    "pycharm": {
     "name": "#%%\n"
    }
   }
  },
  {
   "cell_type": "code",
   "execution_count": null,
   "outputs": [],
   "source": [
    "for x, y in tqdm(dataset.take(5000)):\n",
    "    y_pred = model_pipeline.predict_one(x)\n",
    "    metric = metric.update(y_true=y, y_pred=y_pred)\n",
    "    model_pipeline = model_pipeline.learn_one(x=x, y=y)\n",
    "print(f'MAE: {metric.get():.2f}')"
   ],
   "metadata": {
    "collapsed": false,
    "pycharm": {
     "name": "#%%\n"
    }
   }
  }
 ],
 "metadata": {
  "kernelspec": {
   "display_name": "Python 3",
   "language": "python",
   "name": "python3"
  },
  "language_info": {
   "codemirror_mode": {
    "name": "ipython",
    "version": 2
   },
   "file_extension": ".py",
   "mimetype": "text/x-python",
   "name": "python",
   "nbconvert_exporter": "python",
   "pygments_lexer": "ipython2",
   "version": "2.7.6"
  }
 },
 "nbformat": 4,
 "nbformat_minor": 0
}